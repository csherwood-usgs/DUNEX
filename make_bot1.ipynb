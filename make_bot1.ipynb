{
 "cells": [
  {
   "cell_type": "code",
   "execution_count": 19,
   "id": "5b489e75",
   "metadata": {},
   "outputs": [],
   "source": [
    "import pandas as pd\n",
    "import numpy as np\n",
    "import matplotlib.pyplot as plt\n",
    "import scipy.interpolate\n",
    "\n",
    "fname = r'C:\\\\crs\\\\proj\\\\2019_DUNEX\\\\Pea_Island_Data\\\\03_Bathy\\\\swash_profile.xyz'\n",
    "max_depth = -12.\n",
    "dx = 0.5\n",
    "\n",
    "\n",
    "\n",
    "df0 = pd.read_csv(fname,skiprows=1,sep=',',header=None,names=['x','y','z'])\n",
    "df0\n",
    "df0.describe()\n",
    "x = df0['x'].values\n",
    "y = df0['y'].values\n",
    "z = df0['z'].values\n",
    "dst = np.sqrt((x - x[-1])**2+(y-y[-1])**2)\n",
    "if(z[0]>z[-1]):\n",
    "    # flip arrays to make profile go from deep to shallow\n",
    "    z = np.flip(z).copy()\n",
    "    dst = np.flip(dst).copy()"
   ]
  },
  {
   "cell_type": "code",
   "execution_count": 8,
   "id": "105d03e0",
   "metadata": {},
   "outputs": [
    {
     "name": "stdout",
     "output_type": "stream",
     "text": [
      "idx[0] =  [293] . Deepest sample is z= [-11.995]  at x =  [520.15495824]\n"
     ]
    }
   ],
   "source": [
    "idx = np.argwhere(z>=max_depth)[0]\n",
    "print('idx[0] = ',idx,'. Deepest sample is z=',z[idx],' at x = ',dst[idx])"
   ]
  },
  {
   "cell_type": "code",
   "execution_count": 32,
   "id": "cf69eff7",
   "metadata": {},
   "outputs": [
    {
     "name": "stdout",
     "output_type": "stream",
     "text": [
      "1295.0\n"
     ]
    }
   ],
   "source": [
    "# offset origin to deepest point requested\n",
    "dst = dst-dst[idx[0]]\n",
    "print(np.floor(np.max(dst)))\n",
    "\n",
    "# resample at requested dx\n",
    "x = np.arange(0.,np.round(np.max(dst)),dx)"
   ]
  },
  {
   "cell_type": "code",
   "execution_count": 33,
   "id": "f6c6b565",
   "metadata": {},
   "outputs": [
    {
     "data": {
      "text/plain": [
       "array([0.0000e+00, 5.0000e-01, 1.0000e+00, ..., 1.2945e+03, 1.2950e+03,\n",
       "       1.2955e+03])"
      ]
     },
     "execution_count": 33,
     "metadata": {},
     "output_type": "execute_result"
    }
   ],
   "source": [
    "x"
   ]
  },
  {
   "cell_type": "code",
   "execution_count": 34,
   "id": "7cdd7095",
   "metadata": {},
   "outputs": [],
   "source": [
    "fx = scipy.interpolate.interp1d(dst,z)\n",
    "zi = fx(x)"
   ]
  },
  {
   "cell_type": "code",
   "execution_count": 36,
   "id": "94e6733d",
   "metadata": {},
   "outputs": [
    {
     "data": {
      "text/plain": [
       "[<matplotlib.lines.Line2D at 0x1b403b5bcc8>]"
      ]
     },
     "execution_count": 36,
     "metadata": {},
     "output_type": "execute_result"
    },
    {
     "data": {
      "image/png": "[encoded data removed]",
      "text/plain": [
       "<Figure size 432x288 with 1 Axes>"
      ]
     },
     "metadata": {
      "needs_background": "light"
     },
     "output_type": "display_data"
    }
   ],
   "source": [
    "plt.plot(zi)"
   ]
  }
 ],
 "metadata": {
  "kernelspec": {
   "display_name": "Python 3 (ipykernel)",
   "language": "python",
   "name": "python3"
  },
  "language_info": {
   "codemirror_mode": {
    "name": "ipython",
    "version": 3
   },
   "file_extension": ".py",
   "mimetype": "text/x-python",
   "name": "python",
   "nbconvert_exporter": "python",
   "pygments_lexer": "ipython3",
   "version": "3.7.6"
  }
 },
 "nbformat": 4,
 "nbformat_minor": 5
}
