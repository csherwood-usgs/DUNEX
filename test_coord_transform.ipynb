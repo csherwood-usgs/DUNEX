{
 "cells": [
  {
   "cell_type": "code",
   "execution_count": 14,
   "id": "793080fa",
   "metadata": {},
   "outputs": [
    {
     "name": "stdout",
     "output_type": "stream",
     "text": [
      "Lon / Lat   :   -75.48030601667956 35.67517248557048\n",
      "NC x / NC y:   928147.244959051 219209.98329007678\n"
     ]
    },
    {
     "name": "stderr",
     "output_type": "stream",
     "text": [
      "C:\\Users\\CSHERW~1\\AppData\\Local\\Temp\\1/ipykernel_15968/2209132844.py:11: DeprecationWarning: This function is deprecated. See: https://pyproj4.github.io/pyproj/stable/gotchas.html#upgrading-to-pyproj-2-from-pyproj-1\n",
      "  lat,lon=transform(utm18, wgs84, utmx, utmy)\n",
      "C:\\Users\\CSHERW~1\\AppData\\Local\\Temp\\1/ipykernel_15968/2209132844.py:12: DeprecationWarning: This function is deprecated. See: https://pyproj4.github.io/pyproj/stable/gotchas.html#upgrading-to-pyproj-2-from-pyproj-1\n",
      "  ncx,ncy=transform(utm18, ncsp, utmx, utmy)\n"
     ]
    }
   ],
   "source": [
    "from pyproj import Proj, transform, Transformer, CRS\n",
    "\n",
    "utmx = 456534.\n",
    "utmy = 3948028.\n",
    "\n",
    "# old way - generates deprecation warnings\n",
    "wgs84 = Proj('epsg:4326')\n",
    "utm18 = Proj('epsg:26918')\n",
    "ncsp = CRS.from_proj4('+proj=lcc +lat_1=34.33333333333334 +lat_2=36.16666666666666 +lat_0=33.75 +lon_0=-79 +x_0=609601.22 +y_0=0 +ellps=GRS80 +datum=NAD83 +units=m +no_defs') \n",
    "\n",
    "lat,lon=transform(utm18, wgs84, utmx, utmy)\n",
    "ncx,ncy=transform(utm18, ncsp, utmx, utmy)\n",
    "\n",
    "print(\"Lon / Lat   :  \",lon,lat)\n",
    "print(\"NC x / NC y:  \",ncx,ncy)"
   ]
  },
  {
   "cell_type": "code",
   "execution_count": 15,
   "id": "6ed6e3fb",
   "metadata": {},
   "outputs": [
    {
     "name": "stdout",
     "output_type": "stream",
     "text": [
      "Lon / Lat   :   -75.48030601667956 35.67517248557048\n",
      "NC x / NC y:   928147.244959051 219209.98329007678\n"
     ]
    }
   ],
   "source": [
    "# new way (seems clunkier)\n",
    "ncsp = CRS.from_proj4('+proj=lcc +lat_1=34.33333333333334 +lat_2=36.16666666666666 +lat_0=33.75 +lon_0=-79 +x_0=609601.22 +y_0=0 +ellps=GRS80 +datum=NAD83 +units=m +no_defs') \n",
    "\n",
    "utm18_to_wgs84 = Transformer.from_crs('epsg:26918','epsg:4326')\n",
    "utm18_to_ncsp = Transformer.from_crs('epsg:26918', ncsp)\n",
    "lat,lon=utm18_to_wgs84.transform(utmx,utmy)\n",
    "ncx,ncy=utm18_to_ncsp.transform(utmx, utmy)\n",
    "\n",
    "print(\"Lon / Lat   :  \",lon,lat)\n",
    "print(\"NC x / NC y:  \",ncx,ncy)"
   ]
  }
 ],
 "metadata": {
  "kernelspec": {
   "display_name": "Python 3 (ipykernel)",
   "language": "python",
   "name": "python3"
  },
  "language_info": {
   "codemirror_mode": {
    "name": "ipython",
    "version": 3
   },
   "file_extension": ".py",
   "mimetype": "text/x-python",
   "name": "python",
   "nbconvert_exporter": "python",
   "pygments_lexer": "ipython3",
   "version": "3.9.7"
  }
 },
 "nbformat": 4,
 "nbformat_minor": 5
}
