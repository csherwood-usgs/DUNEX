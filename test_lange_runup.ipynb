{
 "cells": [
  {
   "cell_type": "markdown",
   "id": "001741f8",
   "metadata": {},
   "source": [
    "from Lange et al eqn [9]:\n",
    "\n",
    "𝑅2%,𝐺 = 0.4 * 𝛽eff^0.45 ∫𝑆𝑆 𝐸^0.5 𝑓^−1.45 𝑑𝑓 + \n",
    "\n",
    "2 [3.72 * 𝛽eff^0.6 ∫𝑆𝑆 𝐸^0.95 𝑓^−0.25 𝑑𝑓 +0.76 * 𝛽f^2 * 𝛽eff^0.75 ∫𝑆𝑆 𝐸^0.4 𝑓^−3.1 𝑑𝑓]^0.5"
   ]
  },
  {
   "cell_type": "code",
   "execution_count": null,
   "id": "815ac636",
   "metadata": {},
   "outputs": [],
   "source": [
    "def runup_lange_eq9( Bf, xmid, E, f, df):\n",
    "    \"\"\"\n",
    "    Two-slope integrated power approximation (IPA) runup equation\n",
    "    \n",
    "    Eq. 9 in Lange et al., 2022, Coastal Engineering 172(2022):104055.\n",
    "    \n",
    "    E = 1/8 * rhow * g * H**2 / L\n",
    "    \n",
    "    Input:\n",
    "        Bf - Beach slope (float scalar; m/s)\n",
    "        H0 - Offshore wave height (float scalar; m)\n",
    "        E - Wave energy spectra (float array) \n",
    "        f - Frequencies  (float array; same shape as wave energy) (1/s)\n",
    "        df - Frequency (float scalar if delta f is uniform; float array same shape as wave array if variable; 1/s)\n",
    "        \n",
    "    Returns\n",
    "        R2 - Runup (2% exceedence) [m]\n",
    "    \"\"\"\n",
    "    H0 = 4. * (np.sum( E * df ))**0.5\n",
    "    C = 0.94                                     # coefficient from page 8\n",
    "    Beff = C * H0 / xmid                         # eqn. 8\n",
    "    # eqn. 9\n",
    "    term1 =  0.4 * Beff**.45 * np.sum(E**0.5 * f**(-1.45) * df)\n",
    "    term2 = 3.72 * Beff**0.6 * np.sum(E**0.95 * f**(-0.25) * df)\n",
    "    term3 = 0.76 * Bf**2 * Beff**0.75 * np.sum(E**0.4 * f**(-3.1) * df)\n",
    "    R2 = term1 + 2. * ( term2 + term3 )**0.5 \n",
    "    "
   ]
  }
 ],
 "metadata": {
  "kernelspec": {
   "display_name": "Python 3 (ipykernel)",
   "language": "python",
   "name": "python3"
  },
  "language_info": {
   "codemirror_mode": {
    "name": "ipython",
    "version": 3
   },
   "file_extension": ".py",
   "mimetype": "text/x-python",
   "name": "python",
   "nbconvert_exporter": "python",
   "pygments_lexer": "ipython3",
   "version": "3.10.4"
  }
 },
 "nbformat": 4,
 "nbformat_minor": 5
}
