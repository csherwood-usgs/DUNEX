{
 "cells": [
  {
   "cell_type": "code",
   "execution_count": 1,
   "id": "56017cc0",
   "metadata": {},
   "outputs": [
    {
     "name": "stdout",
     "output_type": "stream",
     "text": [
      "[ 0.         19.08089954] [ 0.         98.16271834]\n"
     ]
    }
   ],
   "source": [
    "# test local coords\n",
    "import numpy as np\n",
    "\n",
    "\n",
    "def utm2DUNEX(x, y, x0=456534., y0=3948028., theta = -11.):\n",
    "    '''\n",
    "    2D rotation and translation of x, y\n",
    "    Input:\n",
    "        x, y - row vectors of original coordinates (must be same size)\n",
    "        x0, y0 - Offset (location of x, y = (0,0) in new coordinate system)\n",
    "        theta - Angle of rotation (degrees, CCW from x-axis == Cartesian coordinates)\n",
    "    Returns:\n",
    "        xr, yr - rotated, offset coordinates\n",
    "        \n",
    "    Default values of x0, y0, and theta define Jenna's local DUNEX coordinate system.\n",
    "    '''\n",
    "    thetar = np.radians(theta)\n",
    "    c, s = np.cos(thetar), np.sin(thetar)\n",
    "    xt = x-x0\n",
    "    yt = y-y0\n",
    "    xr = xt*c-yt*s\n",
    "    yr = xt*s+yt*c\n",
    "    return xr, yr\n",
    "\n",
    "x = np.array((456534.,456534.))\n",
    "y = np.array((3948028.,3948028.+100.))\n",
    "xr, yr = utm2DUNEX(x,y)\n",
    "print(xr,yr)"
   ]
  }
 ],
 "metadata": {
  "kernelspec": {
   "display_name": "Python 3 (ipykernel)",
   "language": "python",
   "name": "python3"
  },
  "language_info": {
   "codemirror_mode": {
    "name": "ipython",
    "version": 3
   },
   "file_extension": ".py",
   "mimetype": "text/x-python",
   "name": "python",
   "nbconvert_exporter": "python",
   "pygments_lexer": "ipython3",
   "version": "3.9.7"
  }
 },
 "nbformat": 4,
 "nbformat_minor": 5
}
